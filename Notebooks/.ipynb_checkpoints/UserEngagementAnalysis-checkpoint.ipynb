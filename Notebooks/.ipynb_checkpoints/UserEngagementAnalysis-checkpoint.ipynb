{
 "cells": [
  {
   "cell_type": "code",
   "execution_count": 1,
   "id": "df6da1c5",
   "metadata": {},
   "outputs": [],
   "source": [
    "import os\n",
    "import sys\n",
    "sys.path.append(os.path.abspath(os.path.join('../scripts')))\n",
    "import seaborn as sns\n",
    "import matplotlib.pyplot as plt\n",
    "%matplotlib inline\n",
    "\n",
    "import plotly.express as px\n",
    " "
   ]
  },
  {
   "cell_type": "code",
   "execution_count": 2,
   "id": "d16520cb",
   "metadata": {},
   "outputs": [],
   "source": [
    "import warnings\n",
    "warnings.filterwarnings('ignore')"
   ]
  },
  {
   "cell_type": "code",
   "execution_count": 3,
   "id": "4cba73f2",
   "metadata": {},
   "outputs": [
    {
     "ename": "ModuleNotFoundError",
     "evalue": "No module named 'plots'",
     "output_type": "error",
     "traceback": [
      "\u001b[1;31m---------------------------------------------------------------------------\u001b[0m",
      "\u001b[1;31mModuleNotFoundError\u001b[0m                       Traceback (most recent call last)",
      "Cell \u001b[1;32mIn[3], line 4\u001b[0m\n\u001b[0;32m      2\u001b[0m \u001b[38;5;28;01mimport\u001b[39;00m \u001b[38;5;21;01mpandas\u001b[39;00m \u001b[38;5;28;01mas\u001b[39;00m \u001b[38;5;21;01mpd\u001b[39;00m\n\u001b[0;32m      3\u001b[0m \u001b[38;5;28;01mfrom\u001b[39;00m \u001b[38;5;21;01mhelper\u001b[39;00m \u001b[38;5;28;01mimport\u001b[39;00m TelecomHelper\n\u001b[1;32m----> 4\u001b[0m \u001b[38;5;28;01mimport\u001b[39;00m \u001b[38;5;21;01mplots\u001b[39;00m\n",
      "\u001b[1;31mModuleNotFoundError\u001b[0m: No module named 'plots'"
     ]
    }
   ],
   "source": [
    "import numpy as np\n",
    "import pandas as pd\n",
    "from helper import TelecomHelper\n",
    "import plots\n"
   ]
  },
  {
   "cell_type": "code",
   "execution_count": null,
   "id": "471def63",
   "metadata": {},
   "outputs": [],
   "source": [
    "pd.set_option('max_column', None)\n",
    "pd.options.display.float_format = \"{:.6f}\".format"
   ]
  },
  {
   "cell_type": "code",
   "execution_count": null,
   "id": "0a31d72c",
   "metadata": {},
   "outputs": [],
   "source": [
    "CSV_PATH = \"../data/cleaned_data.csv\""
   ]
  },
  {
   "cell_type": "code",
   "execution_count": null,
   "id": "5a1308a3",
   "metadata": {},
   "outputs": [],
   "source": [
    "TelecomHelper = TelecomHelper()"
   ]
  },
  {
   "cell_type": "code",
   "execution_count": null,
   "id": "6a36c8e7",
   "metadata": {},
   "outputs": [],
   "source": [
    "df = TelecomHelper.read_csv(csv_path=CSV_PATH)"
   ]
  },
  {
   "cell_type": "code",
   "execution_count": null,
   "id": "e61c0a31",
   "metadata": {},
   "outputs": [],
   "source": [
    "print(f\"The percentage of data missing is: {TelecomHelper.percent_missing(df)}\")"
   ]
  },
  {
   "cell_type": "code",
   "execution_count": null,
   "id": "5b314a88",
   "metadata": {},
   "outputs": [],
   "source": [
    "df.info()"
   ]
  },
  {
   "cell_type": "code",
   "execution_count": null,
   "id": "fe4fbfdc",
   "metadata": {},
   "outputs": [],
   "source": [
    "renamed_df = df.rename(columns={'msisdn/number': 'msisdn', 'dur._(ms)': 'duration' })"
   ]
  },
  {
   "cell_type": "code",
   "execution_count": null,
   "id": "b781ba4e",
   "metadata": {},
   "outputs": [],
   "source": [
    "renamed_df.info()"
   ]
  },
  {
   "cell_type": "code",
   "execution_count": null,
   "id": "47142b7f",
   "metadata": {},
   "outputs": [],
   "source": [
    "agg_by_session_count = renamed_df.groupby('msisdn').agg({'bearer_id': 'count'})\n",
    "session_freq_metrics = agg_by_session_count.sort_values(by=['bearer_id'], ascending = False)\n",
    "session_freq_metrics.head(10)"
   ]
  },
  {
   "cell_type": "code",
   "execution_count": null,
   "id": "67c29937",
   "metadata": {},
   "outputs": [],
   "source": [
    "agg_by_duration = renamed_df.groupby('msisdn').agg({'duration': 'sum'})\n",
    "duration_metrics = agg_by_duration.sort_values(by=['duration'], ascending = False)\n",
    "duration_metrics.head(10)"
   ]
  },
  {
   "cell_type": "code",
   "execution_count": null,
   "id": "1e2c8aa0",
   "metadata": {},
   "outputs": [],
   "source": [
    "agg_by_data = renamed_df.groupby('msisdn').agg({'total_data': 'sum'})\n",
    "traffic_metric = agg_by_data.sort_values(by=['total_data'], ascending = False)\n",
    "traffic_metric.head(10)"
   ]
  },
  {
   "cell_type": "code",
   "execution_count": null,
   "id": "d1f29784",
   "metadata": {},
   "outputs": [],
   "source": [
    "from sklearn.preprocessing import Normalizer, MinMaxScaler\n",
    "from sklearn.cluster import KMeans\n",
    "\n",
    "\n",
    "def normalizer(df, columns):\n",
    "    norm = Normalizer()\n",
    "    return pd.DataFrame(norm.fit_transform(df), columns=columns)\n",
    "\n",
    "def scaler(df, columns):\n",
    "    minmax_scaler = MinMaxScaler()\n",
    "    return pd.DataFrame(minmax_scaler.fit_transform(df), columns=columns)\n",
    "\n",
    "def scale_and_normalize(df,columns ):\n",
    "    return normalizer(scaler(df, columns), columns)\n",
    "    "
   ]
  },
  {
   "cell_type": "code",
   "execution_count": null,
   "id": "e3de2c97",
   "metadata": {},
   "outputs": [],
   "source": [
    "\n",
    "engagment_metrics = renamed_df.groupby('msisdn').agg({'bearer_id': 'count','duration': 'sum', 'total_data': 'sum',})\n",
    "engagment_metrics = engagment_metrics.rename(columns={'bearer_id': 'sessions_frequency', 'total_data': 'total_traffic'})\n",
    "engagment_metrics.sort_values(by=['sessions_frequency'], ascending=False).head(10)\n",
    "\n"
   ]
  },
  {
   "cell_type": "code",
   "execution_count": null,
   "id": "111ae788",
   "metadata": {},
   "outputs": [],
   "source": [
    "engagment_metrics.describe()\n"
   ]
  },
  {
   "cell_type": "code",
   "execution_count": null,
   "id": "5ca72bef",
   "metadata": {},
   "outputs": [],
   "source": [
    "plots.plot_box(engagment_metrics, 'sessions_frequency', 'outlier detection for bearer_id count')"
   ]
  },
  {
   "cell_type": "code",
   "execution_count": null,
   "id": "ca6ac065",
   "metadata": {},
   "outputs": [],
   "source": [
    "plots.plot_box(engagment_metrics, 'duration', 'outlier detection for total duration')"
   ]
  },
  {
   "cell_type": "code",
   "execution_count": null,
   "id": "a0101207",
   "metadata": {},
   "outputs": [],
   "source": [
    "plots.plot_box(engagment_metrics, 'total_traffic', 'outlier detection for total data ')"
   ]
  },
  {
   "cell_type": "code",
   "execution_count": null,
   "id": "1e331817",
   "metadata": {},
   "outputs": [],
   "source": [
    "def handle_outliers(df, col):\n",
    "    df = df.copy()\n",
    "    q1 = df[col].quantile(0.25)\n",
    "    q3 = df[col].quantile(0.75)\n",
    "    \n",
    "    lower_bound = q1 - ((1.5) * (q3 - q1))\n",
    "    upper_bound = q3 + ((1.5) * (q3 - q1))\n",
    "    \n",
    "    df[col] = np.where(df[col] < lower_bound, lower_bound, df[col])\n",
    "    df[col] = np.where(df[col] > upper_bound, upper_bound, df[col])\n",
    "    \n",
    "    return df\n",
    "\n"
   ]
  },
  {
   "cell_type": "code",
   "execution_count": null,
   "id": "e231ca75",
   "metadata": {},
   "outputs": [],
   "source": [
    "\n",
    "cleaned_engagment_metrics = handle_outliers(engagment_metrics, 'sessions_frequency')\n",
    "cleaned_engagment_metrics = handle_outliers(cleaned_engagment_metrics, 'duration')\n",
    "cleaned_engagment_metrics = handle_outliers(cleaned_engagment_metrics, 'total_traffic')\n",
    "cleaned_engagment_metrics.describe()\n"
   ]
  },
  {
   "cell_type": "code",
   "execution_count": null,
   "id": "ffc1c26e",
   "metadata": {},
   "outputs": [],
   "source": [
    "plots.plot_box(cleaned_engagment_metrics, 'sessions_frequency', 'outlier detection for bearer_id count ')\n"
   ]
  },
  {
   "cell_type": "code",
   "execution_count": null,
   "id": "4b1805e0",
   "metadata": {},
   "outputs": [],
   "source": [
    "plots.plot_box(cleaned_engagment_metrics, 'duration', 'outlier detection for total duration ')\n"
   ]
  },
  {
   "cell_type": "code",
   "execution_count": null,
   "id": "e4d21343",
   "metadata": {},
   "outputs": [],
   "source": [
    "plots.plot_box(cleaned_engagment_metrics, 'total_traffic', 'outlier detection for total data ')\n"
   ]
  },
  {
   "cell_type": "code",
   "execution_count": null,
   "id": "bbe60454",
   "metadata": {},
   "outputs": [],
   "source": [
    "\n",
    "normalized_metrics = scale_and_normalize(cleaned_engagment_metrics, ['sessions_frequency', 'duration', 'total_traffic'])\n",
    "normalized_metrics.describe()\n"
   ]
  },
  {
   "cell_type": "code",
   "execution_count": null,
   "id": "3cd390fa",
   "metadata": {},
   "outputs": [],
   "source": [
    "plots.plot_dist(normalized_metrics, 'sessions_frequency',)"
   ]
  },
  {
   "cell_type": "code",
   "execution_count": null,
   "id": "4c6807ec",
   "metadata": {},
   "outputs": [],
   "source": [
    "plots.plot_dist(normalized_metrics, 'duration',)"
   ]
  },
  {
   "cell_type": "code",
   "execution_count": null,
   "id": "ba44b422",
   "metadata": {},
   "outputs": [],
   "source": [
    "plots.plot_dist(normalized_metrics, 'total_traffic',)"
   ]
  },
  {
   "cell_type": "code",
   "execution_count": null,
   "id": "0bb5d841",
   "metadata": {},
   "outputs": [],
   "source": [
    "kmeans = KMeans(n_clusters=3, init='k-means++').fit(normalized_metrics)\n",
    "pred = kmeans.predict(normalized_metrics)\n",
    "\n",
    "engagment_metrics_with_cluster = cleaned_engagment_metrics.copy()\n",
    "engagment_metrics_with_cluster['clusters'] = pred\n"
   ]
  },
  {
   "cell_type": "code",
   "execution_count": null,
   "id": "5bb89234",
   "metadata": {},
   "outputs": [],
   "source": [
    "def cluser_label(x: int, cols: list = []) -> str:\n",
    "    if (not type(x) == int):\n",
    "        return x\n",
    "    if (x < len(cols)):\n",
    "        return cols[x]\n",
    "\n",
    "    return str(x)\n",
    "    "
   ]
  },
  {
   "cell_type": "code",
   "execution_count": null,
   "id": "cdba129c",
   "metadata": {},
   "outputs": [],
   "source": [
    "\n",
    "labels = ['cluser_1', 'cluser_2', 'cluser_3']\n",
    "\n",
    "engagment_metrics_with_cluster['clusters']  = engagment_metrics_with_cluster['clusters'].map(lambda x:\n",
    "                                                                                             cluser_label(x, labels))\n",
    "engagment_metrics_with_cluster['clusters'].value_counts()\n",
    "\n",
    "plt.figure(figsize=(12,9))\n",
    "\n",
    "sns.scatterplot(x = 'duration', y='total_traffic',\n",
    "                hue='clusters', data=engagment_metrics_with_cluster).set_title('Clusters of user engagement metric')\n",
    "\n",
    "plt.show()\n",
    "engagment_metrics_with_cluster.describe()\n"
   ]
  },
  {
   "cell_type": "code",
   "execution_count": null,
   "id": "7c9c843d",
   "metadata": {},
   "outputs": [],
   "source": [
    "# engagment_metrics_with_cluster.groupby('duration').agg()"
   ]
  },
  {
   "cell_type": "code",
   "execution_count": null,
   "id": "b42908e2",
   "metadata": {},
   "outputs": [],
   "source": [
    "\n",
    "print(\"Describing cluser 1 \")\n",
    "print(\"======================\")\n",
    "cluser_1 =  engagment_metrics_with_cluster[engagment_metrics_with_cluster['clusters'] == 'cluser_1']\n",
    "cluser_1.describe()\n"
   ]
  },
  {
   "cell_type": "code",
   "execution_count": null,
   "id": "20d1bf39",
   "metadata": {},
   "outputs": [],
   "source": [
    "print(\"Describing cluser 2 \")\n",
    "print(\"======================\")\n",
    "cluser_1 =  engagment_metrics_with_cluster[engagment_metrics_with_cluster['clusters'] == 'cluser_2']\n",
    "cluser_1.describe()"
   ]
  },
  {
   "cell_type": "code",
   "execution_count": null,
   "id": "3dc39fb5",
   "metadata": {},
   "outputs": [],
   "source": [
    "print(\"Describing cluser 3 \")\n",
    "print(\"======================\")\n",
    "cluser_1 =  engagment_metrics_with_cluster[engagment_metrics_with_cluster['clusters'] == 'cluser_3']\n",
    "cluser_1.describe()"
   ]
  },
  {
   "cell_type": "code",
   "execution_count": null,
   "id": "d80d3c45",
   "metadata": {},
   "outputs": [],
   "source": [
    "\n",
    "app_metrics = []\n",
    "\n",
    "app_columns = ['social_media', 'google', 'email', 'youtube', 'netflix', 'gaming']\n",
    "\n",
    "app_metrics = renamed_df.groupby('msisdn').agg({'social_media': 'sum',\n",
    "                                        'google': 'sum',\n",
    "                                        'email': 'sum',\n",
    "                                        'youtube': 'sum',\n",
    "                                        'netflix': 'sum', \n",
    "                                        'gaming': 'sum'})\n",
    "\n",
    "\n",
    "\n",
    "figure, axes = plt.subplots(3, 2, figsize=(15,10))\n",
    "\n",
    "count = 0\n",
    "for app_metric in app_metrics:\n",
    "    \n",
    "    x = app_metrics[[app_metric]].sort_values(by = [app_metric], ascending=False).head(10)\n",
    "    x.plot.bar(y=app_metric, ax=axes[(count//2), count%2], rot=12)\n",
    "    count += 1\n",
    "\n",
    "\n"
   ]
  },
  {
   "cell_type": "code",
   "execution_count": null,
   "id": "3f9677ba",
   "metadata": {},
   "outputs": [],
   "source": [
    "\n",
    "app_total_df = pd.DataFrame(columns=['app', 'total'])\n",
    "app_total_df['app'] = app_columns\n",
    "\n",
    "app_metrics\n",
    "app_totals = [ ]\n",
    "for app in app_columns:\n",
    "    app_totals.append(app_metrics.sum()[app])\n",
    "app_total_df['total'] =app_totals\n",
    "    \n",
    "app_total_df\n"
   ]
  },
  {
   "cell_type": "code",
   "execution_count": null,
   "id": "fd27f0d9",
   "metadata": {},
   "outputs": [],
   "source": [
    "\n",
    "plots.plot_bar(app_total_df.sort_values(by=['total'],\n",
    "                                  ascending = False).head(),\n",
    "         x_col='app', y_col='total', title=\"Total data usage for each app\",\n",
    "         xlabel=\"Application\", ylabel=\"Total data volume\")\n"
   ]
  },
  {
   "cell_type": "code",
   "execution_count": null,
   "id": "19936d4d",
   "metadata": {},
   "outputs": [],
   "source": [
    "cleaned_engagment_metrics"
   ]
  },
  {
   "cell_type": "code",
   "execution_count": null,
   "id": "1f0164d8",
   "metadata": {},
   "outputs": [],
   "source": [
    "\n",
    "inertias = []\n",
    "for k in range(1, 20):\n",
    "    \n",
    "    kmeans = KMeans(n_clusters=k).fit(normalized_metrics)\n",
    "    inertias.append([k, kmeans.inertia_])\n",
    "\n",
    "    \n",
    "\n"
   ]
  },
  {
   "cell_type": "code",
   "execution_count": null,
   "id": "579b0664",
   "metadata": {},
   "outputs": [],
   "source": [
    "\n",
    "k_df = pd.DataFrame(columns=['k', 'inertia'])\n",
    "k_df['k'] = [i[0] for i in inertias]\n",
    "k_df['inertia'] = [i[1] for i in inertias]\n",
    "\n",
    "\n",
    "plt.figure(figsize=(10,7))\n",
    "\n",
    "k_df.plot( x='k', y='inertia', linestyle='-',\n",
    "          marker='o', figsize=(10,7), title='K values').set_xlabel(\"K values\")\n",
    "plt.xticks(np.arange(len(k_df.index)))\n",
    "plt.xlabel('K value')\n",
    "plt.ylabel('Inertia')\n",
    "\n",
    "\n",
    "# k_df.plot(inertias, linestyle='-', marker='o', )\n"
   ]
  },
  {
   "cell_type": "code",
   "execution_count": null,
   "id": "3f3c266b",
   "metadata": {},
   "outputs": [],
   "source": [
    "kmeans = KMeans(n_clusters=4, init='k-means++').fit(normalized_metrics)\n",
    "pred = kmeans.predict(normalized_metrics)\n",
    "\n",
    "engagment_metrics_with_cluster2 = cleaned_engagment_metrics.copy()\n",
    "engagment_metrics_with_cluster2['clusters'] = pred\n",
    "\n",
    "\n"
   ]
  },
  {
   "cell_type": "code",
   "execution_count": null,
   "id": "f360ed1b",
   "metadata": {},
   "outputs": [],
   "source": [
    "labels = ['cluser_1', 'cluser_2', 'cluser_3', 'cluser_4']\n",
    "\n",
    "engagment_metrics_with_cluster['clusters']  = engagment_metrics_with_cluster['clusters'].map(lambda x:\n",
    "                                                                                             cluser_label(x, labels))\n",
    "engagment_metrics_with_cluster['clusters'].value_counts()\n",
    "plt.figure(figsize=(15,9))\n",
    "\n",
    "sns.scatterplot(x = 'duration', y='total_traffic',\n",
    "                hue='clusters', data=engagment_metrics_with_cluster2).set_title('Clusters of user engagement metric')\n",
    "\n",
    "plt.show()\n",
    "engagment_metrics_with_cluster.describe()"
   ]
  },
  {
   "cell_type": "code",
   "execution_count": null,
   "id": "92834a68",
   "metadata": {},
   "outputs": [],
   "source": []
  },
  {
   "cell_type": "code",
   "execution_count": null,
   "id": "90be96fb",
   "metadata": {},
   "outputs": [],
   "source": []
  }
 ],
 "metadata": {
  "kernelspec": {
   "display_name": "Python 3 (ipykernel)",
   "language": "python",
   "name": "python3"
  },
  "language_info": {
   "codemirror_mode": {
    "name": "ipython",
    "version": 3
   },
   "file_extension": ".py",
   "mimetype": "text/x-python",
   "name": "python",
   "nbconvert_exporter": "python",
   "pygments_lexer": "ipython3",
   "version": "3.11.5"
  }
 },
 "nbformat": 4,
 "nbformat_minor": 5
}
