{
 "cells": [
  {
   "cell_type": "code",
   "execution_count": null,
   "id": "ffa111a4",
   "metadata": {},
   "outputs": [],
   "source": [
    "import os\n",
    "import sys\n",
    "sys.path.append(os.path.abspath(os.path.join('../scripts')))\n",
    "import seaborn as sns\n",
    "import matplotlib.pyplot as plt\n",
    "import plotly.express as px\n",
    " "
   ]
  },
  {
   "cell_type": "code",
   "execution_count": 2,
   "id": "cc10d29f",
   "metadata": {},
   "outputs": [],
   "source": [
    "import warnings\n",
    "warnings.filterwarnings('ignore')"
   ]
  },
  {
   "cell_type": "code",
   "execution_count": 3,
   "id": "3bb71aa0",
   "metadata": {},
   "outputs": [],
   "source": [
    "import numpy as np\n",
    "import pandas as pd\n",
    "from helper import TelecomHelper\n",
    "import plots\n"
   ]
  },
  {
   "cell_type": "code",
   "execution_count": 4,
   "id": "1c240d7e",
   "metadata": {},
   "outputs": [],
   "source": [
    "pd.set_option('max_column', None)\n",
    "pd.options.display.float_format = \"{:.6f}\".format"
   ]
  },
  {
   "cell_type": "code",
   "execution_count": 5,
   "id": "0cfa0d6e",
   "metadata": {},
   "outputs": [],
   "source": [
    "CSV_PATH = \"../data/cleaned_data.csv\""
   ]
  },
  {
   "cell_type": "code",
   "execution_count": 6,
   "id": "60670561",
   "metadata": {},
   "outputs": [],
   "source": [
    "TelecomHelper = TelecomHelper()"
   ]
  },
  {
   "cell_type": "code",
   "execution_count": 7,
   "id": "5c1cd107",
   "metadata": {},
   "outputs": [
    {
     "name": "stdout",
     "output_type": "stream",
     "text": [
      "file read as csv\n"
     ]
    }
   ],
   "source": [
    "df = TelecomHelper.read_csv(csv_path=CSV_PATH)"
   ]
  },
  {
   "cell_type": "code",
   "execution_count": 8,
   "id": "4ac9df95",
   "metadata": {},
   "outputs": [
    {
     "name": "stdout",
     "output_type": "stream",
     "text": [
      "The percentage of data missing is: 0.0\n"
     ]
    }
   ],
   "source": [
    "print(f\"The percentage of data missing is: {TelecomHelper.percent_missing(df)}\")"
   ]
  },
  {
   "cell_type": "code",
   "execution_count": 9,
   "id": "81e9169c",
   "metadata": {},
   "outputs": [
    {
     "name": "stdout",
     "output_type": "stream",
     "text": [
      "<class 'pandas.core.frame.DataFrame'>\n",
      "RangeIndex: 146891 entries, 0 to 146890\n",
      "Data columns (total 53 columns):\n",
      " #   Column                          Non-Null Count   Dtype  \n",
      "---  ------                          --------------   -----  \n",
      " 0   bearer_id                       146891 non-null  float64\n",
      " 1   start                           146891 non-null  object \n",
      " 2   start_ms                        146891 non-null  float64\n",
      " 3   end                             146891 non-null  object \n",
      " 4   end_ms                          146891 non-null  float64\n",
      " 5   dur._(ms)                       146891 non-null  float64\n",
      " 6   imsi                            146891 non-null  float64\n",
      " 7   msisdn/number                   146891 non-null  float64\n",
      " 8   imei                            146891 non-null  float64\n",
      " 9   last_location_name              146891 non-null  object \n",
      " 10  avg_rtt_dl_(ms)                 146891 non-null  float64\n",
      " 11  avg_rtt_ul_(ms)                 146891 non-null  float64\n",
      " 12  avg_bearer_tp_dl_(kbps)         146891 non-null  float64\n",
      " 13  avg_bearer_tp_ul_(kbps)         146891 non-null  float64\n",
      " 14  dl_tp_<_50_kbps_(%)             146891 non-null  float64\n",
      " 15  50_kbps_<_dl_tp_<_250_kbps_(%)  146891 non-null  float64\n",
      " 16  250_kbps_<_dl_tp_<_1_mbps_(%)   146891 non-null  float64\n",
      " 17  dl_tp_>_1_mbps_(%)              146891 non-null  float64\n",
      " 18  ul_tp_<_10_kbps_(%)             146891 non-null  float64\n",
      " 19  10_kbps_<_ul_tp_<_50_kbps_(%)   146891 non-null  float64\n",
      " 20  50_kbps_<_ul_tp_<_300_kbps_(%)  146891 non-null  float64\n",
      " 21  ul_tp_>_300_kbps_(%)            146891 non-null  float64\n",
      " 22  activity_duration_dl_(ms)       146891 non-null  float64\n",
      " 23  activity_duration_ul_(ms)       146891 non-null  float64\n",
      " 24  dur._(ms).1                     146891 non-null  float64\n",
      " 25  handset_manufacturer            146891 non-null  object \n",
      " 26  handset_type                    146891 non-null  object \n",
      " 27  nb_of_sec_with_vol_dl_<_6250b   146891 non-null  float64\n",
      " 28  nb_of_sec_with_vol_ul_<_1250b   146891 non-null  float64\n",
      " 29  social_media_dl_(bytes)         146891 non-null  float64\n",
      " 30  social_media_ul_(bytes)         146891 non-null  float64\n",
      " 31  google_dl_(bytes)               146891 non-null  float64\n",
      " 32  google_ul_(bytes)               146891 non-null  float64\n",
      " 33  email_dl_(bytes)                146891 non-null  float64\n",
      " 34  email_ul_(bytes)                146891 non-null  float64\n",
      " 35  youtube_dl_(bytes)              146891 non-null  float64\n",
      " 36  youtube_ul_(bytes)              146891 non-null  float64\n",
      " 37  netflix_dl_(bytes)              146891 non-null  float64\n",
      " 38  netflix_ul_(bytes)              146891 non-null  float64\n",
      " 39  gaming_dl_(bytes)               146891 non-null  float64\n",
      " 40  gaming_ul_(bytes)               146891 non-null  float64\n",
      " 41  other_dl_(bytes)                146891 non-null  float64\n",
      " 42  other_ul_(bytes)                146891 non-null  float64\n",
      " 43  total_ul_(bytes)                146891 non-null  float64\n",
      " 44  total_dl_(bytes)                146891 non-null  float64\n",
      " 45  social_media                    146891 non-null  float64\n",
      " 46  google                          146891 non-null  float64\n",
      " 47  email                           146891 non-null  float64\n",
      " 48  youtube                         146891 non-null  float64\n",
      " 49  netflix                         146891 non-null  float64\n",
      " 50  gaming                          146891 non-null  float64\n",
      " 51  other                           146891 non-null  float64\n",
      " 52  total_data                      146891 non-null  float64\n",
      "dtypes: float64(48), object(5)\n",
      "memory usage: 59.4+ MB\n"
     ]
    }
   ],
   "source": [
    "df.info()"
   ]
  },
  {
   "cell_type": "code",
   "execution_count": 10,
   "id": "499f37a9",
   "metadata": {},
   "outputs": [],
   "source": [
    "renamed_df = df.rename(columns={'msisdn/number': 'msisdn', 'dur._(ms)': 'duration' })"
   ]
  },
  {
   "cell_type": "code",
   "execution_count": 11,
   "id": "9abdc4f3",
   "metadata": {},
   "outputs": [
    {
     "name": "stdout",
     "output_type": "stream",
     "text": [
      "<class 'pandas.core.frame.DataFrame'>\n",
      "RangeIndex: 146891 entries, 0 to 146890\n",
      "Data columns (total 53 columns):\n",
      " #   Column                          Non-Null Count   Dtype  \n",
      "---  ------                          --------------   -----  \n",
      " 0   bearer_id                       146891 non-null  float64\n",
      " 1   start                           146891 non-null  object \n",
      " 2   start_ms                        146891 non-null  float64\n",
      " 3   end                             146891 non-null  object \n",
      " 4   end_ms                          146891 non-null  float64\n",
      " 5   duration                        146891 non-null  float64\n",
      " 6   imsi                            146891 non-null  float64\n",
      " 7   msisdn                          146891 non-null  float64\n",
      " 8   imei                            146891 non-null  float64\n",
      " 9   last_location_name              146891 non-null  object \n",
      " 10  avg_rtt_dl_(ms)                 146891 non-null  float64\n",
      " 11  avg_rtt_ul_(ms)                 146891 non-null  float64\n",
      " 12  avg_bearer_tp_dl_(kbps)         146891 non-null  float64\n",
      " 13  avg_bearer_tp_ul_(kbps)         146891 non-null  float64\n",
      " 14  dl_tp_<_50_kbps_(%)             146891 non-null  float64\n",
      " 15  50_kbps_<_dl_tp_<_250_kbps_(%)  146891 non-null  float64\n",
      " 16  250_kbps_<_dl_tp_<_1_mbps_(%)   146891 non-null  float64\n",
      " 17  dl_tp_>_1_mbps_(%)              146891 non-null  float64\n",
      " 18  ul_tp_<_10_kbps_(%)             146891 non-null  float64\n",
      " 19  10_kbps_<_ul_tp_<_50_kbps_(%)   146891 non-null  float64\n",
      " 20  50_kbps_<_ul_tp_<_300_kbps_(%)  146891 non-null  float64\n",
      " 21  ul_tp_>_300_kbps_(%)            146891 non-null  float64\n",
      " 22  activity_duration_dl_(ms)       146891 non-null  float64\n",
      " 23  activity_duration_ul_(ms)       146891 non-null  float64\n",
      " 24  dur._(ms).1                     146891 non-null  float64\n",
      " 25  handset_manufacturer            146891 non-null  object \n",
      " 26  handset_type                    146891 non-null  object \n",
      " 27  nb_of_sec_with_vol_dl_<_6250b   146891 non-null  float64\n",
      " 28  nb_of_sec_with_vol_ul_<_1250b   146891 non-null  float64\n",
      " 29  social_media_dl_(bytes)         146891 non-null  float64\n",
      " 30  social_media_ul_(bytes)         146891 non-null  float64\n",
      " 31  google_dl_(bytes)               146891 non-null  float64\n",
      " 32  google_ul_(bytes)               146891 non-null  float64\n",
      " 33  email_dl_(bytes)                146891 non-null  float64\n",
      " 34  email_ul_(bytes)                146891 non-null  float64\n",
      " 35  youtube_dl_(bytes)              146891 non-null  float64\n",
      " 36  youtube_ul_(bytes)              146891 non-null  float64\n",
      " 37  netflix_dl_(bytes)              146891 non-null  float64\n",
      " 38  netflix_ul_(bytes)              146891 non-null  float64\n",
      " 39  gaming_dl_(bytes)               146891 non-null  float64\n",
      " 40  gaming_ul_(bytes)               146891 non-null  float64\n",
      " 41  other_dl_(bytes)                146891 non-null  float64\n",
      " 42  other_ul_(bytes)                146891 non-null  float64\n",
      " 43  total_ul_(bytes)                146891 non-null  float64\n",
      " 44  total_dl_(bytes)                146891 non-null  float64\n",
      " 45  social_media                    146891 non-null  float64\n",
      " 46  google                          146891 non-null  float64\n",
      " 47  email                           146891 non-null  float64\n",
      " 48  youtube                         146891 non-null  float64\n",
      " 49  netflix                         146891 non-null  float64\n",
      " 50  gaming                          146891 non-null  float64\n",
      " 51  other                           146891 non-null  float64\n",
      " 52  total_data                      146891 non-null  float64\n",
      "dtypes: float64(48), object(5)\n",
      "memory usage: 59.4+ MB\n"
     ]
    }
   ],
   "source": [
    "renamed_df.info()"
   ]
  },
  {
   "cell_type": "code",
   "execution_count": 12,
   "id": "0a18a72f",
   "metadata": {},
   "outputs": [
    {
     "data": {
      "text/html": [
       "<div>\n",
       "<style scoped>\n",
       "    .dataframe tbody tr th:only-of-type {\n",
       "        vertical-align: middle;\n",
       "    }\n",
       "\n",
       "    .dataframe tbody tr th {\n",
       "        vertical-align: top;\n",
       "    }\n",
       "\n",
       "    .dataframe thead th {\n",
       "        text-align: right;\n",
       "    }\n",
       "</style>\n",
       "<table border=\"1\" class=\"dataframe\">\n",
       "  <thead>\n",
       "    <tr style=\"text-align: right;\">\n",
       "      <th></th>\n",
       "      <th>bearer_id</th>\n",
       "    </tr>\n",
       "    <tr>\n",
       "      <th>msisdn</th>\n",
       "      <th></th>\n",
       "    </tr>\n",
       "  </thead>\n",
       "  <tbody>\n",
       "    <tr>\n",
       "      <th>33626320676.000000</th>\n",
       "      <td>18</td>\n",
       "    </tr>\n",
       "    <tr>\n",
       "      <th>33614892860.000000</th>\n",
       "      <td>17</td>\n",
       "    </tr>\n",
       "    <tr>\n",
       "      <th>33625779332.000000</th>\n",
       "      <td>17</td>\n",
       "    </tr>\n",
       "    <tr>\n",
       "      <th>33659725664.000000</th>\n",
       "      <td>16</td>\n",
       "    </tr>\n",
       "    <tr>\n",
       "      <th>33675877202.000000</th>\n",
       "      <td>15</td>\n",
       "    </tr>\n",
       "    <tr>\n",
       "      <th>33760536639.000000</th>\n",
       "      <td>15</td>\n",
       "    </tr>\n",
       "    <tr>\n",
       "      <th>33667163239.000000</th>\n",
       "      <td>13</td>\n",
       "    </tr>\n",
       "    <tr>\n",
       "      <th>33603127838.000000</th>\n",
       "      <td>12</td>\n",
       "    </tr>\n",
       "    <tr>\n",
       "      <th>33760413819.000000</th>\n",
       "      <td>12</td>\n",
       "    </tr>\n",
       "    <tr>\n",
       "      <th>33627080969.000000</th>\n",
       "      <td>12</td>\n",
       "    </tr>\n",
       "  </tbody>\n",
       "</table>\n",
       "</div>"
      ],
      "text/plain": [
       "                    bearer_id\n",
       "msisdn                       \n",
       "33626320676.000000         18\n",
       "33614892860.000000         17\n",
       "33625779332.000000         17\n",
       "33659725664.000000         16\n",
       "33675877202.000000         15\n",
       "33760536639.000000         15\n",
       "33667163239.000000         13\n",
       "33603127838.000000         12\n",
       "33760413819.000000         12\n",
       "33627080969.000000         12"
      ]
     },
     "execution_count": 12,
     "metadata": {},
     "output_type": "execute_result"
    }
   ],
   "source": [
    "agg_by_session_count = renamed_df.groupby('msisdn').agg({'bearer_id': 'count'})\n",
    "session_freq_metrics = agg_by_session_count.sort_values(by=['bearer_id'], ascending = False)\n",
    "session_freq_metrics.head(10)"
   ]
  },
  {
   "cell_type": "code",
   "execution_count": 13,
   "id": "59893aa7",
   "metadata": {},
   "outputs": [
    {
     "data": {
      "text/html": [
       "<div>\n",
       "<style scoped>\n",
       "    .dataframe tbody tr th:only-of-type {\n",
       "        vertical-align: middle;\n",
       "    }\n",
       "\n",
       "    .dataframe tbody tr th {\n",
       "        vertical-align: top;\n",
       "    }\n",
       "\n",
       "    .dataframe thead th {\n",
       "        text-align: right;\n",
       "    }\n",
       "</style>\n",
       "<table border=\"1\" class=\"dataframe\">\n",
       "  <thead>\n",
       "    <tr style=\"text-align: right;\">\n",
       "      <th></th>\n",
       "      <th>duration</th>\n",
       "    </tr>\n",
       "    <tr>\n",
       "      <th>msisdn</th>\n",
       "      <th></th>\n",
       "    </tr>\n",
       "  </thead>\n",
       "  <tbody>\n",
       "    <tr>\n",
       "      <th>33625779332.000000</th>\n",
       "      <td>18553754.000000</td>\n",
       "    </tr>\n",
       "    <tr>\n",
       "      <th>33614892860.000000</th>\n",
       "      <td>9966898.000000</td>\n",
       "    </tr>\n",
       "    <tr>\n",
       "      <th>33760536639.000000</th>\n",
       "      <td>9279434.000000</td>\n",
       "    </tr>\n",
       "    <tr>\n",
       "      <th>33626320676.000000</th>\n",
       "      <td>8791927.000000</td>\n",
       "    </tr>\n",
       "    <tr>\n",
       "      <th>33667163239.000000</th>\n",
       "      <td>8744914.000000</td>\n",
       "    </tr>\n",
       "    <tr>\n",
       "      <th>33664693736.000000</th>\n",
       "      <td>6288730.000000</td>\n",
       "    </tr>\n",
       "    <tr>\n",
       "      <th>33603127838.000000</th>\n",
       "      <td>6287761.000000</td>\n",
       "    </tr>\n",
       "    <tr>\n",
       "      <th>33667456716.000000</th>\n",
       "      <td>5649882.000000</td>\n",
       "    </tr>\n",
       "    <tr>\n",
       "      <th>33760413819.000000</th>\n",
       "      <td>5321667.000000</td>\n",
       "    </tr>\n",
       "    <tr>\n",
       "      <th>33604515716.000000</th>\n",
       "      <td>5207990.000000</td>\n",
       "    </tr>\n",
       "  </tbody>\n",
       "</table>\n",
       "</div>"
      ],
      "text/plain": [
       "                          duration\n",
       "msisdn                            \n",
       "33625779332.000000 18553754.000000\n",
       "33614892860.000000  9966898.000000\n",
       "33760536639.000000  9279434.000000\n",
       "33626320676.000000  8791927.000000\n",
       "33667163239.000000  8744914.000000\n",
       "33664693736.000000  6288730.000000\n",
       "33603127838.000000  6287761.000000\n",
       "33667456716.000000  5649882.000000\n",
       "33760413819.000000  5321667.000000\n",
       "33604515716.000000  5207990.000000"
      ]
     },
     "execution_count": 13,
     "metadata": {},
     "output_type": "execute_result"
    }
   ],
   "source": [
    "agg_by_duration = renamed_df.groupby('msisdn').agg({'duration': 'sum'})\n",
    "duration_metrics = agg_by_duration.sort_values(by=['duration'], ascending = False)\n",
    "duration_metrics.head(10)"
   ]
  },
  {
   "cell_type": "code",
   "execution_count": 14,
   "id": "f3bda222",
   "metadata": {},
   "outputs": [
    {
     "data": {
      "text/html": [
       "<div>\n",
       "<style scoped>\n",
       "    .dataframe tbody tr th:only-of-type {\n",
       "        vertical-align: middle;\n",
       "    }\n",
       "\n",
       "    .dataframe tbody tr th {\n",
       "        vertical-align: top;\n",
       "    }\n",
       "\n",
       "    .dataframe thead th {\n",
       "        text-align: right;\n",
       "    }\n",
       "</style>\n",
       "<table border=\"1\" class=\"dataframe\">\n",
       "  <thead>\n",
       "    <tr style=\"text-align: right;\">\n",
       "      <th></th>\n",
       "      <th>total_data</th>\n",
       "    </tr>\n",
       "    <tr>\n",
       "      <th>msisdn</th>\n",
       "      <th></th>\n",
       "    </tr>\n",
       "  </thead>\n",
       "  <tbody>\n",
       "    <tr>\n",
       "      <th>33614892860.000000</th>\n",
       "      <td>8846226494.000000</td>\n",
       "    </tr>\n",
       "    <tr>\n",
       "      <th>33760536639.000000</th>\n",
       "      <td>8514773963.000000</td>\n",
       "    </tr>\n",
       "    <tr>\n",
       "      <th>33625779332.000000</th>\n",
       "      <td>8499620722.000000</td>\n",
       "    </tr>\n",
       "    <tr>\n",
       "      <th>33626320676.000000</th>\n",
       "      <td>7971167261.000000</td>\n",
       "    </tr>\n",
       "    <tr>\n",
       "      <th>33675877202.000000</th>\n",
       "      <td>7891110608.000000</td>\n",
       "    </tr>\n",
       "    <tr>\n",
       "      <th>33659725664.000000</th>\n",
       "      <td>7705862783.000000</td>\n",
       "    </tr>\n",
       "    <tr>\n",
       "      <th>33666464084.000000</th>\n",
       "      <td>7308500938.000000</td>\n",
       "    </tr>\n",
       "    <tr>\n",
       "      <th>33760413819.000000</th>\n",
       "      <td>7132370514.000000</td>\n",
       "    </tr>\n",
       "    <tr>\n",
       "      <th>33664712899.000000</th>\n",
       "      <td>6872018208.000000</td>\n",
       "    </tr>\n",
       "    <tr>\n",
       "      <th>33698792269.000000</th>\n",
       "      <td>6540899126.000000</td>\n",
       "    </tr>\n",
       "  </tbody>\n",
       "</table>\n",
       "</div>"
      ],
      "text/plain": [
       "                          total_data\n",
       "msisdn                              \n",
       "33614892860.000000 8846226494.000000\n",
       "33760536639.000000 8514773963.000000\n",
       "33625779332.000000 8499620722.000000\n",
       "33626320676.000000 7971167261.000000\n",
       "33675877202.000000 7891110608.000000\n",
       "33659725664.000000 7705862783.000000\n",
       "33666464084.000000 7308500938.000000\n",
       "33760413819.000000 7132370514.000000\n",
       "33664712899.000000 6872018208.000000\n",
       "33698792269.000000 6540899126.000000"
      ]
     },
     "execution_count": 14,
     "metadata": {},
     "output_type": "execute_result"
    }
   ],
   "source": [
    "agg_by_data = renamed_df.groupby('msisdn').agg({'total_data': 'sum'})\n",
    "traffic_metric = agg_by_data.sort_values(by=['total_data'], ascending = False)\n",
    "traffic_metric.head(10)"
   ]
  },
  {
   "cell_type": "code",
   "execution_count": 115,
   "id": "01a3c9d3",
   "metadata": {},
   "outputs": [],
   "source": [
    "from sklearn.preprocessing import Normalizer, MinMaxScaler\n",
    "from sklearn.cluster import KMeans\n",
    "\n",
    "\n",
    "def normalizer(df, columns):\n",
    "    norm = Normalizer()\n",
    "    return pd.DataFrame(norm.fit_transform(df), columns=columns)\n",
    "\n",
    "def scaler(df, columns):\n",
    "    minmax_scaler = MinMaxScaler()\n",
    "    return pd.DataFrame(minmax_scaler.fit_transform(df), columns=columns)\n",
    "\n",
    "def scale_and_normalize(df,columns ):\n",
    "    return normalizer(scaler(df, columns), columns)\n",
    "    "
   ]
  },
  {
   "cell_type": "code",
   "execution_count": 51,
   "id": "aeaf4b29",
   "metadata": {},
   "outputs": [
    {
     "data": {
      "text/html": [
       "<div>\n",
       "<style scoped>\n",
       "    .dataframe tbody tr th:only-of-type {\n",
       "        vertical-align: middle;\n",
       "    }\n",
       "\n",
       "    .dataframe tbody tr th {\n",
       "        vertical-align: top;\n",
       "    }\n",
       "\n",
       "    .dataframe thead th {\n",
       "        text-align: right;\n",
       "    }\n",
       "</style>\n",
       "<table border=\"1\" class=\"dataframe\">\n",
       "  <thead>\n",
       "    <tr style=\"text-align: right;\">\n",
       "      <th></th>\n",
       "      <th>bearer_id</th>\n",
       "      <th>duration</th>\n",
       "      <th>total_data</th>\n",
       "    </tr>\n",
       "    <tr>\n",
       "      <th>msisdn</th>\n",
       "      <th></th>\n",
       "      <th></th>\n",
       "      <th></th>\n",
       "    </tr>\n",
       "  </thead>\n",
       "  <tbody>\n",
       "    <tr>\n",
       "      <th>33626320676.000000</th>\n",
       "      <td>18</td>\n",
       "      <td>8791927.000000</td>\n",
       "      <td>7971167261.000000</td>\n",
       "    </tr>\n",
       "    <tr>\n",
       "      <th>33614892860.000000</th>\n",
       "      <td>17</td>\n",
       "      <td>9966898.000000</td>\n",
       "      <td>8846226494.000000</td>\n",
       "    </tr>\n",
       "    <tr>\n",
       "      <th>33625779332.000000</th>\n",
       "      <td>17</td>\n",
       "      <td>18553754.000000</td>\n",
       "      <td>8499620722.000000</td>\n",
       "    </tr>\n",
       "    <tr>\n",
       "      <th>33659725664.000000</th>\n",
       "      <td>16</td>\n",
       "      <td>4035428.000000</td>\n",
       "      <td>7705862783.000000</td>\n",
       "    </tr>\n",
       "    <tr>\n",
       "      <th>33675877202.000000</th>\n",
       "      <td>15</td>\n",
       "      <td>4865947.000000</td>\n",
       "      <td>7891110608.000000</td>\n",
       "    </tr>\n",
       "    <tr>\n",
       "      <th>33760536639.000000</th>\n",
       "      <td>15</td>\n",
       "      <td>9279434.000000</td>\n",
       "      <td>8514773963.000000</td>\n",
       "    </tr>\n",
       "    <tr>\n",
       "      <th>33667163239.000000</th>\n",
       "      <td>13</td>\n",
       "      <td>8744914.000000</td>\n",
       "      <td>5618394054.000000</td>\n",
       "    </tr>\n",
       "    <tr>\n",
       "      <th>33603127838.000000</th>\n",
       "      <td>12</td>\n",
       "      <td>6287761.000000</td>\n",
       "      <td>4976195043.000000</td>\n",
       "    </tr>\n",
       "    <tr>\n",
       "      <th>33760413819.000000</th>\n",
       "      <td>12</td>\n",
       "      <td>5321667.000000</td>\n",
       "      <td>7132370514.000000</td>\n",
       "    </tr>\n",
       "    <tr>\n",
       "      <th>33627080969.000000</th>\n",
       "      <td>12</td>\n",
       "      <td>4703516.000000</td>\n",
       "      <td>5754730859.000000</td>\n",
       "    </tr>\n",
       "  </tbody>\n",
       "</table>\n",
       "</div>"
      ],
      "text/plain": [
       "                    bearer_id        duration        total_data\n",
       "msisdn                                                         \n",
       "33626320676.000000         18  8791927.000000 7971167261.000000\n",
       "33614892860.000000         17  9966898.000000 8846226494.000000\n",
       "33625779332.000000         17 18553754.000000 8499620722.000000\n",
       "33659725664.000000         16  4035428.000000 7705862783.000000\n",
       "33675877202.000000         15  4865947.000000 7891110608.000000\n",
       "33760536639.000000         15  9279434.000000 8514773963.000000\n",
       "33667163239.000000         13  8744914.000000 5618394054.000000\n",
       "33603127838.000000         12  6287761.000000 4976195043.000000\n",
       "33760413819.000000         12  5321667.000000 7132370514.000000\n",
       "33627080969.000000         12  4703516.000000 5754730859.000000"
      ]
     },
     "execution_count": 51,
     "metadata": {},
     "output_type": "execute_result"
    }
   ],
   "source": [
    "engagment_metrics = renamed_df.groupby('msisdn').agg({'bearer_id': 'count','duration': 'sum', 'total_data': 'sum',})\n",
    "engagment_metrics.sort_values(by=['bearer_id'], ascending=False).head(10)"
   ]
  },
  {
   "cell_type": "code",
   "execution_count": 83,
   "id": "ad734498",
   "metadata": {},
   "outputs": [
    {
     "data": {
      "text/html": [
       "<div>\n",
       "<style scoped>\n",
       "    .dataframe tbody tr th:only-of-type {\n",
       "        vertical-align: middle;\n",
       "    }\n",
       "\n",
       "    .dataframe tbody tr th {\n",
       "        vertical-align: top;\n",
       "    }\n",
       "\n",
       "    .dataframe thead th {\n",
       "        text-align: right;\n",
       "    }\n",
       "</style>\n",
       "<table border=\"1\" class=\"dataframe\">\n",
       "  <thead>\n",
       "    <tr style=\"text-align: right;\">\n",
       "      <th></th>\n",
       "      <th>bearer_id</th>\n",
       "      <th>duration</th>\n",
       "      <th>total_data</th>\n",
       "    </tr>\n",
       "  </thead>\n",
       "  <tbody>\n",
       "    <tr>\n",
       "      <th>count</th>\n",
       "      <td>105719.000000</td>\n",
       "      <td>105719.000000</td>\n",
       "      <td>105719.000000</td>\n",
       "    </tr>\n",
       "    <tr>\n",
       "      <th>mean</th>\n",
       "      <td>1.389447</td>\n",
       "      <td>146211.393988</td>\n",
       "      <td>688866059.424815</td>\n",
       "    </tr>\n",
       "    <tr>\n",
       "      <th>std</th>\n",
       "      <td>0.796173</td>\n",
       "      <td>184539.076531</td>\n",
       "      <td>486996435.345276</td>\n",
       "    </tr>\n",
       "    <tr>\n",
       "      <th>min</th>\n",
       "      <td>1.000000</td>\n",
       "      <td>7142.000000</td>\n",
       "      <td>33249009.000000</td>\n",
       "    </tr>\n",
       "    <tr>\n",
       "      <th>25%</th>\n",
       "      <td>1.000000</td>\n",
       "      <td>72729.000000</td>\n",
       "      <td>357950085.000000</td>\n",
       "    </tr>\n",
       "    <tr>\n",
       "      <th>50%</th>\n",
       "      <td>1.000000</td>\n",
       "      <td>103111.000000</td>\n",
       "      <td>616933544.000000</td>\n",
       "    </tr>\n",
       "    <tr>\n",
       "      <th>75%</th>\n",
       "      <td>2.000000</td>\n",
       "      <td>172799.000000</td>\n",
       "      <td>856473809.500000</td>\n",
       "    </tr>\n",
       "    <tr>\n",
       "      <th>max</th>\n",
       "      <td>18.000000</td>\n",
       "      <td>18553754.000000</td>\n",
       "      <td>8846226494.000000</td>\n",
       "    </tr>\n",
       "  </tbody>\n",
       "</table>\n",
       "</div>"
      ],
      "text/plain": [
       "          bearer_id        duration        total_data\n",
       "count 105719.000000   105719.000000     105719.000000\n",
       "mean       1.389447   146211.393988  688866059.424815\n",
       "std        0.796173   184539.076531  486996435.345276\n",
       "min        1.000000     7142.000000   33249009.000000\n",
       "25%        1.000000    72729.000000  357950085.000000\n",
       "50%        1.000000   103111.000000  616933544.000000\n",
       "75%        2.000000   172799.000000  856473809.500000\n",
       "max       18.000000 18553754.000000 8846226494.000000"
      ]
     },
     "execution_count": 83,
     "metadata": {},
     "output_type": "execute_result"
    }
   ],
   "source": [
    "engagment_metrics.describe()\n"
   ]
  },
  {
   "cell_type": "code",
   "execution_count": 76,
   "id": "672b38e9",
   "metadata": {},
   "outputs": [
    {
     "data": {
      "image/png": "[encoded data removed]",
      "text/plain": [
       "<Figure size 864x504 with 1 Axes>"
      ]
     },
     "metadata": {
      "needs_background": "light"
     },
     "output_type": "display_data"
    }
   ],
   "source": [
    "plots.plot_box(engagment_metrics, 'bearer_id', 'outlier detection for bearer_id count')"
   ]
  },
  {
   "cell_type": "code",
   "execution_count": 77,
   "id": "edfdaae5",
   "metadata": {},
   "outputs": [
    {
     "data": {
      "image/png": "[encoded data removed]",
      "text/plain": [
       "<Figure size 864x504 with 1 Axes>"
      ]
     },
     "metadata": {
      "needs_background": "light"
     },
     "output_type": "display_data"
    }
   ],
   "source": [
    "plots.plot_box(engagment_metrics, 'duration', 'outlier detection for total duration')"
   ]
  },
  {
   "cell_type": "code",
   "execution_count": 78,
   "id": "0562f3f4",
   "metadata": {},
   "outputs": [
    {
     "data": {
      "image/png": "[encoded data removed]",
      "text/plain": [
       "<Figure size 864x504 with 1 Axes>"
      ]
     },
     "metadata": {
      "needs_background": "light"
     },
     "output_type": "display_data"
    }
   ],
   "source": [
    "plots.plot_box(engagment_metrics, 'total_data', 'outlier detection for total data ')"
   ]
  },
  {
   "cell_type": "code",
   "execution_count": 84,
   "id": "a4232d4e",
   "metadata": {},
   "outputs": [],
   "source": [
    "def handle_outliers(df, col):\n",
    "    df = df.copy()\n",
    "    q1 = df[col].quantile(0.25)\n",
    "    q3 = df[col].quantile(0.75)\n",
    "    \n",
    "    lower_bound = q1 - ((1.5) * (q3 - q1))\n",
    "    upper_bound = q3 + ((1.5) * (q3 - q1))\n",
    "    \n",
    "    df[col] = np.where(df[col] < lower_bound, lower_bound, df[col])\n",
    "    df[col] = np.where(df[col] > upper_bound, upper_bound, df[col])\n",
    "    \n",
    "    return df\n",
    "\n"
   ]
  },
  {
   "cell_type": "code",
   "execution_count": 85,
   "id": "d73d3752",
   "metadata": {},
   "outputs": [
    {
     "data": {
      "text/html": [
       "<div>\n",
       "<style scoped>\n",
       "    .dataframe tbody tr th:only-of-type {\n",
       "        vertical-align: middle;\n",
       "    }\n",
       "\n",
       "    .dataframe tbody tr th {\n",
       "        vertical-align: top;\n",
       "    }\n",
       "\n",
       "    .dataframe thead th {\n",
       "        text-align: right;\n",
       "    }\n",
       "</style>\n",
       "<table border=\"1\" class=\"dataframe\">\n",
       "  <thead>\n",
       "    <tr style=\"text-align: right;\">\n",
       "      <th></th>\n",
       "      <th>bearer_id</th>\n",
       "      <th>duration</th>\n",
       "      <th>total_data</th>\n",
       "    </tr>\n",
       "  </thead>\n",
       "  <tbody>\n",
       "    <tr>\n",
       "      <th>count</th>\n",
       "      <td>105719.000000</td>\n",
       "      <td>105719.000000</td>\n",
       "      <td>105719.000000</td>\n",
       "    </tr>\n",
       "    <tr>\n",
       "      <th>mean</th>\n",
       "      <td>1.356634</td>\n",
       "      <td>130349.580378</td>\n",
       "      <td>662283010.076524</td>\n",
       "    </tr>\n",
       "    <tr>\n",
       "      <th>std</th>\n",
       "      <td>0.650007</td>\n",
       "      <td>87018.309018</td>\n",
       "      <td>394711651.731353</td>\n",
       "    </tr>\n",
       "    <tr>\n",
       "      <th>min</th>\n",
       "      <td>1.000000</td>\n",
       "      <td>7142.000000</td>\n",
       "      <td>33249009.000000</td>\n",
       "    </tr>\n",
       "    <tr>\n",
       "      <th>25%</th>\n",
       "      <td>1.000000</td>\n",
       "      <td>72729.000000</td>\n",
       "      <td>357950085.000000</td>\n",
       "    </tr>\n",
       "    <tr>\n",
       "      <th>50%</th>\n",
       "      <td>1.000000</td>\n",
       "      <td>103111.000000</td>\n",
       "      <td>616933544.000000</td>\n",
       "    </tr>\n",
       "    <tr>\n",
       "      <th>75%</th>\n",
       "      <td>2.000000</td>\n",
       "      <td>172799.000000</td>\n",
       "      <td>856473809.500000</td>\n",
       "    </tr>\n",
       "    <tr>\n",
       "      <th>max</th>\n",
       "      <td>3.500000</td>\n",
       "      <td>322904.000000</td>\n",
       "      <td>1604259396.250000</td>\n",
       "    </tr>\n",
       "  </tbody>\n",
       "</table>\n",
       "</div>"
      ],
      "text/plain": [
       "          bearer_id      duration        total_data\n",
       "count 105719.000000 105719.000000     105719.000000\n",
       "mean       1.356634 130349.580378  662283010.076524\n",
       "std        0.650007  87018.309018  394711651.731353\n",
       "min        1.000000   7142.000000   33249009.000000\n",
       "25%        1.000000  72729.000000  357950085.000000\n",
       "50%        1.000000 103111.000000  616933544.000000\n",
       "75%        2.000000 172799.000000  856473809.500000\n",
       "max        3.500000 322904.000000 1604259396.250000"
      ]
     },
     "execution_count": 85,
     "metadata": {},
     "output_type": "execute_result"
    }
   ],
   "source": [
    "\n",
    "cleaned_engagment_metrics = handle_outliers(engagment_metrics, 'bearer_id')\n",
    "cleaned_engagment_metrics = handle_outliers(cleaned_engagment_metrics, 'duration')\n",
    "cleaned_engagment_metrics = handle_outliers(cleaned_engagment_metrics, 'total_data')\n",
    "cleaned_engagment_metrics.describe()\n"
   ]
  },
  {
   "cell_type": "code",
   "execution_count": 86,
   "id": "b7532165",
   "metadata": {},
   "outputs": [
    {
     "data": {
      "image/png": "[encoded data removed]",
      "text/plain": [
       "<Figure size 864x504 with 1 Axes>"
      ]
     },
     "metadata": {
      "needs_background": "light"
     },
     "output_type": "display_data"
    }
   ],
   "source": [
    "plots.plot_box(cleaned_engagment_metrics, 'bearer_id', 'outlier detection for bearer_id count ')\n"
   ]
  },
  {
   "cell_type": "code",
   "execution_count": 87,
   "id": "ad37ebad",
   "metadata": {},
   "outputs": [
    {
     "data": {
      "image/png": "[encoded data removed]",
      "text/plain": [
       "<Figure size 864x504 with 1 Axes>"
      ]
     },
     "metadata": {
      "needs_background": "light"
     },
     "output_type": "display_data"
    }
   ],
   "source": [
    "plots.plot_box(cleaned_engagment_metrics, 'duration', 'outlier detection for total duration ')\n"
   ]
  },
  {
   "cell_type": "code",
   "execution_count": 88,
   "id": "09d01644",
   "metadata": {},
   "outputs": [
    {
     "data": {
      "image/png": "[encoded data removed]",
      "text/plain": [
       "<Figure size 864x504 with 1 Axes>"
      ]
     },
     "metadata": {
      "needs_background": "light"
     },
     "output_type": "display_data"
    }
   ],
   "source": [
    "plots.plot_box(cleaned_engagment_metrics, 'total_data', 'outlier detection for total data ')\n"
   ]
  },
  {
   "cell_type": "code",
   "execution_count": 104,
   "id": "47cd9239",
   "metadata": {},
   "outputs": [
    {
     "data": {
      "text/html": [
       "<div>\n",
       "<style scoped>\n",
       "    .dataframe tbody tr th:only-of-type {\n",
       "        vertical-align: middle;\n",
       "    }\n",
       "\n",
       "    .dataframe tbody tr th {\n",
       "        vertical-align: top;\n",
       "    }\n",
       "\n",
       "    .dataframe thead th {\n",
       "        text-align: right;\n",
       "    }\n",
       "</style>\n",
       "<table border=\"1\" class=\"dataframe\">\n",
       "  <thead>\n",
       "    <tr style=\"text-align: right;\">\n",
       "      <th></th>\n",
       "      <th>sessions_frequency</th>\n",
       "      <th>duration</th>\n",
       "      <th>total_traffic</th>\n",
       "    </tr>\n",
       "  </thead>\n",
       "  <tbody>\n",
       "    <tr>\n",
       "      <th>count</th>\n",
       "      <td>105719.000000</td>\n",
       "      <td>105719.000000</td>\n",
       "      <td>105719.000000</td>\n",
       "    </tr>\n",
       "    <tr>\n",
       "      <th>mean</th>\n",
       "      <td>0.130161</td>\n",
       "      <td>0.615899</td>\n",
       "      <td>0.654168</td>\n",
       "    </tr>\n",
       "    <tr>\n",
       "      <th>std</th>\n",
       "      <td>0.221570</td>\n",
       "      <td>0.260170</td>\n",
       "      <td>0.242921</td>\n",
       "    </tr>\n",
       "    <tr>\n",
       "      <th>min</th>\n",
       "      <td>0.000000</td>\n",
       "      <td>0.000000</td>\n",
       "      <td>0.000000</td>\n",
       "    </tr>\n",
       "    <tr>\n",
       "      <th>25%</th>\n",
       "      <td>0.000000</td>\n",
       "      <td>0.447434</td>\n",
       "      <td>0.496042</td>\n",
       "    </tr>\n",
       "    <tr>\n",
       "      <th>50%</th>\n",
       "      <td>0.000000</td>\n",
       "      <td>0.637558</td>\n",
       "      <td>0.680414</td>\n",
       "    </tr>\n",
       "    <tr>\n",
       "      <th>75%</th>\n",
       "      <td>0.327139</td>\n",
       "      <td>0.830555</td>\n",
       "      <td>0.855126</td>\n",
       "    </tr>\n",
       "    <tr>\n",
       "      <th>max</th>\n",
       "      <td>0.963529</td>\n",
       "      <td>1.000000</td>\n",
       "      <td>1.000000</td>\n",
       "    </tr>\n",
       "  </tbody>\n",
       "</table>\n",
       "</div>"
      ],
      "text/plain": [
       "       sessions_frequency      duration  total_traffic\n",
       "count       105719.000000 105719.000000  105719.000000\n",
       "mean             0.130161      0.615899       0.654168\n",
       "std              0.221570      0.260170       0.242921\n",
       "min              0.000000      0.000000       0.000000\n",
       "25%              0.000000      0.447434       0.496042\n",
       "50%              0.000000      0.637558       0.680414\n",
       "75%              0.327139      0.830555       0.855126\n",
       "max              0.963529      1.000000       1.000000"
      ]
     },
     "execution_count": 104,
     "metadata": {},
     "output_type": "execute_result"
    }
   ],
   "source": [
    "normalized_metrics = scale_and_normalize(cleaned_engagment_metrics, ['sessions_frequency', 'duration', 'total_traffic'])\n",
    "normalized_metrics.describe()\n"
   ]
  },
  {
   "cell_type": "code",
   "execution_count": 116,
   "id": "78967ef2",
   "metadata": {},
   "outputs": [
    {
     "data": {
      "image/png": "[encoded data removed]",
      "text/plain": [
       "<Figure size 648x504 with 1 Axes>"
      ]
     },
     "metadata": {
      "needs_background": "light"
     },
     "output_type": "display_data"
    }
   ],
   "source": [
    "plots.plot_dist(normalized_metrics, 'sessions_frequency',)"
   ]
  },
  {
   "cell_type": "code",
   "execution_count": 117,
   "id": "c4efdbd7",
   "metadata": {},
   "outputs": [
    {
     "data": {
      "image/png": "[encoded data removed]",
      "text/plain": [
       "<Figure size 648x504 with 1 Axes>"
      ]
     },
     "metadata": {
      "needs_background": "light"
     },
     "output_type": "display_data"
    }
   ],
   "source": [
    "plots.plot_dist(normalized_metrics, 'duration',)"
   ]
  },
  {
   "cell_type": "code",
   "execution_count": 118,
   "id": "d089b6d8",
   "metadata": {},
   "outputs": [
    {
     "data": {
      "image/png": "[encoded data removed]",
      "text/plain": [
       "<Figure size 648x504 with 1 Axes>"
      ]
     },
     "metadata": {
      "needs_background": "light"
     },
     "output_type": "display_data"
    }
   ],
   "source": [
    "plots.plot_dist(normalized_metrics, 'total_traffic',)"
   ]
  },
  {
   "cell_type": "code",
   "execution_count": 174,
   "id": "83a74b7c",
   "metadata": {},
   "outputs": [],
   "source": [
    "kmeans = KMeans(n_clusters=3, init='k-means++').fit(normalized_metrics)\n",
    "pred = kmeans.predict(normalized_metrics)\n",
    "\n",
    "engagment_metrics_with_cluster = cleaned_engagment_metrics.copy()\n",
    "engagment_metrics_with_cluster['clusters'] = pred"
   ]
  },
  {
   "cell_type": "code",
   "execution_count": 175,
   "id": "447a868e",
   "metadata": {},
   "outputs": [],
   "source": [
    "def cluser_label(x: int, cols: list = []) -> str:\n",
    "    if (type(x) != int):\n",
    "        \n",
    "    if (x < len(cols)):\n",
    "        return cols[x]\n",
    "\n",
    "    return str(x)\n",
    "    "
   ]
  },
  {
   "cell_type": "code",
   "execution_count": 176,
   "id": "e75bb99d",
   "metadata": {},
   "outputs": [
    {
     "data": {
      "text/plain": [
       "cluser_1    40265\n",
       "cluser_2    39659\n",
       "cluser_3    25795\n",
       "Name: clusters, dtype: int64"
      ]
     },
     "execution_count": 176,
     "metadata": {},
     "output_type": "execute_result"
    }
   ],
   "source": [
    "\n",
    "labels = ['cluser_1', 'cluser_2', 'cluser_3']\n",
    "\n",
    "engagment_metrics_with_cluster['clusters']  = engagment_metrics_with_cluster['clusters'].map(lambda x:\n",
    "                                                                                             cluser_label(x, labels))\n",
    "engagment_metrics_with_cluster['clusters'].value_counts()\n"
   ]
  },
  {
   "cell_type": "code",
   "execution_count": 182,
   "id": "34cbfbc2",
   "metadata": {},
   "outputs": [
    {
     "ename": "AttributeError",
     "evalue": "'DataFrameGroupBy' object has no attribute 'descibe'",
     "output_type": "error",
     "traceback": [
      "\u001b[0;31m---------------------------------------------------------------------------\u001b[0m",
      "\u001b[0;31mAttributeError\u001b[0m                            Traceback (most recent call last)",
      "\u001b[0;32m<ipython-input-182-4df41bdbd0c7>\u001b[0m in \u001b[0;36m<module>\u001b[0;34m\u001b[0m\n\u001b[0;32m----> 1\u001b[0;31m \u001b[0mengagment_metrics_with_cluster\u001b[0m\u001b[0;34m.\u001b[0m\u001b[0mgroupby\u001b[0m\u001b[0;34m(\u001b[0m\u001b[0;34m'duration'\u001b[0m\u001b[0;34m)\u001b[0m\u001b[0;34m.\u001b[0m\u001b[0mdescibe\u001b[0m\u001b[0;34m(\u001b[0m\u001b[0;34m)\u001b[0m\u001b[0;34m.\u001b[0m\u001b[0mT\u001b[0m\u001b[0;34m\u001b[0m\u001b[0;34m\u001b[0m\u001b[0m\n\u001b[0m",
      "\u001b[0;32m/Library/Frameworks/Python.framework/Versions/3.9/lib/python3.9/site-packages/pandas/core/groupby/groupby.py\u001b[0m in \u001b[0;36m__getattr__\u001b[0;34m(self, attr)\u001b[0m\n\u001b[1;32m    750\u001b[0m             \u001b[0;32mreturn\u001b[0m \u001b[0mself\u001b[0m\u001b[0;34m[\u001b[0m\u001b[0mattr\u001b[0m\u001b[0;34m]\u001b[0m\u001b[0;34m\u001b[0m\u001b[0;34m\u001b[0m\u001b[0m\n\u001b[1;32m    751\u001b[0m \u001b[0;34m\u001b[0m\u001b[0m\n\u001b[0;32m--> 752\u001b[0;31m         raise AttributeError(\n\u001b[0m\u001b[1;32m    753\u001b[0m             \u001b[0;34mf\"'{type(self).__name__}' object has no attribute '{attr}'\"\u001b[0m\u001b[0;34m\u001b[0m\u001b[0;34m\u001b[0m\u001b[0m\n\u001b[1;32m    754\u001b[0m         )\n",
      "\u001b[0;31mAttributeError\u001b[0m: 'DataFrameGroupBy' object has no attribute 'descibe'"
     ]
    }
   ],
   "source": [
    "engagment_metrics_with_cluster.groupby('duration').descibe().T"
   ]
  },
  {
   "cell_type": "code",
   "execution_count": null,
   "id": "21d08652",
   "metadata": {},
   "outputs": [],
   "source": []
  }
 ],
 "metadata": {
  "kernelspec": {
   "display_name": "Python 3",
   "language": "python",
   "name": "python3"
  },
  "language_info": {
   "codemirror_mode": {
    "name": "ipython",
    "version": 3
   },
   "file_extension": ".py",
   "mimetype": "text/x-python",
   "name": "python",
   "nbconvert_exporter": "python",
   "pygments_lexer": "ipython3",
   "version": "3.9.4"
  }
 },
 "nbformat": 4,
 "nbformat_minor": 5
}
