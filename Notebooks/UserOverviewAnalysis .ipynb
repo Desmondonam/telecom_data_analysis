{
 "cells": [
  {
   "cell_type": "code",
   "execution_count": 1,
   "id": "6d009145",
   "metadata": {},
   "outputs": [],
   "source": [
    "import os\n",
    "import sys\n",
    "sys.path.append(os.path.abspath(os.path.join('../scripts')))\n",
    "import seaborn as sns\n",
    "\n"
   ]
  },
  {
   "cell_type": "code",
   "execution_count": null,
   "id": "189d9098",
   "metadata": {},
   "outputs": [],
   "source": [
    "#setting our columns to display full values\n",
    "import warnings\n",
    "warnings.filterwarnings('ignore')\n"
   ]
  },
  {
   "cell_type": "code",
   "execution_count": null,
   "id": "95435807",
   "metadata": {},
   "outputs": [],
   "source": [
    "import numpy as np\n",
    "import pandas as pd\n",
    "from helper import TelecomHelper\n",
    "from clean_telecom_df import CleanTelecomData\n"
   ]
  },
  {
   "cell_type": "code",
   "execution_count": null,
   "id": "0656b14a",
   "metadata": {},
   "outputs": [],
   "source": [
    "CSV_PATH = \"../data/data.csv\""
   ]
  },
  {
   "cell_type": "code",
   "execution_count": null,
   "id": "288d32b4",
   "metadata": {},
   "outputs": [],
   "source": [
    "Helper = TelecomHelper()"
   ]
  },
  {
   "cell_type": "code",
   "execution_count": null,
   "id": "0b55c10c",
   "metadata": {},
   "outputs": [],
   "source": [
    "df = Helper.read_csv(CSV_PATH, missing_values=[\"n/a\", \"na\", \"undefined\"])"
   ]
  },
  {
   "cell_type": "code",
   "execution_count": null,
   "id": "7ddb00e3",
   "metadata": {},
   "outputs": [],
   "source": [
    "pd.set_option('max_column', None)"
   ]
  },
  {
   "cell_type": "code",
   "execution_count": null,
   "id": "85c08b11",
   "metadata": {},
   "outputs": [],
   "source": [
    "df.head()"
   ]
  },
  {
   "cell_type": "code",
   "execution_count": null,
   "id": "18d9197f",
   "metadata": {},
   "outputs": [],
   "source": [
    "def convert_labels(df):\n",
    "        df.columns = [column.replace(' ', '_').lower() for column in df.columns]\n",
    "        return df"
   ]
  },
  {
   "cell_type": "code",
   "execution_count": null,
   "id": "025106a8",
   "metadata": {},
   "outputs": [],
   "source": [
    "df = convert_labels(df)"
   ]
  },
  {
   "cell_type": "code",
   "execution_count": null,
   "id": "69993302",
   "metadata": {},
   "outputs": [],
   "source": [
    "class OverViewAnalysis:\n",
    "    \n",
    "    def __init__(self, df):\n",
    "        \n",
    "        self.df = df\n",
    "    \n",
    "    \n",
    "    def read_head(self, top=5):\n",
    "        return self.df.head(top)\n",
    "    \n",
    "    # returning the number of rows columns and column information\n",
    "    def get_info(self):\n",
    "        row_count, col_count = self.df.shape\n",
    "    \n",
    "        print(f\"Number of rows: {row_count}\")\n",
    "        print(f\"Number of columns: {col_count}\")\n",
    "        print(\"================================\")\n",
    "\n",
    "        return (row_count, col_count), self.df.info()\n",
    "    \n",
    "    # gets number of distnict values in a given coumn\n",
    "    def get_count(self, column_name):\n",
    "        return self.df[column_name].value_counts()\n",
    "    \n",
    "    def get_null_count(self, column_name):\n",
    "        print(\"Null values count\")\n",
    "        print(self.df.isnull().sum())\n",
    "        return self.df.isnull().sum()\n",
    "    \n",
    "    def get_percent_missing(self):\n",
    "        Helper = TelecomHelper()\n",
    "        \n",
    "        percent_missing = Helper.percent_missing(self.df)\n",
    "        \n",
    "        null_percent_df = pd.DataFrame(columns = ['column', 'null_percent'])\n",
    "        columns = self.df.columns.values.tolist()\n",
    "        \n",
    "        null_percent_df['column'] = columns\n",
    "        null_percent_df['null_percent'] = null_percent_df['column'].map(lambda x: Helper.percent_missing_for_col(self.df, x))\n",
    "        \n",
    "        \n",
    "        return null_percent_df.sort_values(by=['null_percent'], ascending = False), percent_missing\n",
    "    \n",
    "    \n",
    "    def top_handset_type(self, top=5):\n",
    "        \n",
    "        return self.df['handset_type'].value_counts().head(top)\n",
    "    \n",
    "    def top_manufacturer(self, top=5):\n",
    "        \n",
    "        return self.df['handset_manufacturer'].value_counts().head(top)\n",
    "    \n",
    "    def top_handset_by_manufacturer(self, manufacturer, top=5):\n",
    "        \n",
    "        return df.groupby('handset_manufacturer')['handset_type'].value_counts()[manufacturer].head(top)\n",
    "    \n",
    "        \n",
    "    \n",
    "        \n",
    "    \n",
    " \n",
    " "
   ]
  },
  {
   "cell_type": "code",
   "execution_count": null,
   "id": "092b1abf",
   "metadata": {},
   "outputs": [],
   "source": [
    "overViewAnal = OverViewAnalysis(df)"
   ]
  },
  {
   "cell_type": "code",
   "execution_count": null,
   "id": "d0175718",
   "metadata": {},
   "outputs": [],
   "source": [
    "overViewAnal.read_head()"
   ]
  },
  {
   "cell_type": "code",
   "execution_count": null,
   "id": "cd07745b",
   "metadata": {},
   "outputs": [],
   "source": [
    "overViewAnal.get_info()"
   ]
  },
  {
   "cell_type": "code",
   "execution_count": null,
   "id": "922fdae9",
   "metadata": {},
   "outputs": [],
   "source": [
    "df.isnull().sum()"
   ]
  },
  {
   "cell_type": "code",
   "execution_count": null,
   "id": "acf1c29f",
   "metadata": {},
   "outputs": [],
   "source": [
    "null_percent_df, overall_missing = overViewAnal.get_percent_missing()\n",
    "print(f\"The overall missing perceentage is: {overall_missing}%\")\n",
    "print(\"=============================================\")\n",
    "null_percent_df\n"
   ]
  },
  {
   "cell_type": "code",
   "execution_count": null,
   "id": "95b8d0b2",
   "metadata": {},
   "outputs": [],
   "source": [
    "cleanTelecomData = CleanTelecomData(df)"
   ]
  },
  {
   "cell_type": "code",
   "execution_count": null,
   "id": "ea9aa219",
   "metadata": {},
   "outputs": [],
   "source": [
    "\n",
    "cleaned_df = cleanTelecomData.drop_columns_with_null_values(df)\n",
    "\n",
    "cleaned_df = cleanTelecomData.convert_to_datetime(cleaned_df)\n",
    "\n",
    "cleaned_df = cleanTelecomData.drop_duplicate(cleaned_df)\n",
    "\n",
    "cleaned_df = cleanTelecomData.drop_rows_with_null_values(cleaned_df)\n",
    "\n",
    "cleaned_df = cleanTelecomData.handle_missing_qantitative_data_with_mean(cleaned_df)\n",
    "\n",
    "cleaned_df = cleanTelecomData.handle_missing_categorical_data_with_mean(cleaned_df, \"ffill\")\n",
    "\n",
    "\n",
    "\n",
    "overViewAnal_2 = OverViewAnalysis(cleaned_df)\n"
   ]
  },
  {
   "cell_type": "code",
   "execution_count": null,
   "id": "eba8aa99",
   "metadata": {},
   "outputs": [],
   "source": [
    "null_percent_df, overall_missing = overViewAnal_2.get_percent_missing()\n",
    "print(f\"The overall missing perceentage is: {overall_missing}%\")\n",
    "print(\"=============================================\")"
   ]
  },
  {
   "cell_type": "code",
   "execution_count": null,
   "id": "908964c7",
   "metadata": {},
   "outputs": [],
   "source": [
    "print(f\"percent of null value rows in last_location_name column: {Helper.percent_missing_for_col(cleaned_df, 'last_location_name')}%\"\n",
    "     )\n",
    "print(f\"percent of null value rows in handset_manufacturer: {Helper.percent_missing_for_col(cleaned_df, 'handset_manufacturer')}%\")\n",
    "print(f\"percent of null value rows in handset_type: {Helper.percent_missing_for_col(cleaned_df, 'handset_type')}%\")\n",
    "print(f\"percent of null value rows in start: {Helper.percent_missing_for_col(cleaned_df, 'start')}%\")\n",
    "print(f\"percent of null value rows in end: {Helper.percent_missing_for_col(cleaned_df, 'end')}%\")\n",
    "\n",
    "\n"
   ]
  },
  {
   "cell_type": "code",
   "execution_count": null,
   "id": "a7d92998",
   "metadata": {},
   "outputs": [],
   "source": []
  },
  {
   "cell_type": "code",
   "execution_count": null,
   "id": "2197396c",
   "metadata": {},
   "outputs": [],
   "source": [
    "overViewAnal.top_handset_type(top=10)"
   ]
  },
  {
   "cell_type": "code",
   "execution_count": null,
   "id": "9fa88d0c",
   "metadata": {},
   "outputs": [],
   "source": [
    "overViewAnal.top_manufacturer(top=3)"
   ]
  },
  {
   "cell_type": "code",
   "execution_count": null,
   "id": "34d4d76e",
   "metadata": {},
   "outputs": [],
   "source": [
    "overViewAnal.top_handset_by_manufacturer('Apple', 5)"
   ]
  },
  {
   "cell_type": "code",
   "execution_count": null,
   "id": "79b53da8",
   "metadata": {},
   "outputs": [],
   "source": [
    "overViewAnal.top_handset_by_manufacturer('Samsung', 5)"
   ]
  },
  {
   "cell_type": "code",
   "execution_count": null,
   "id": "933e2190",
   "metadata": {},
   "outputs": [],
   "source": [
    "overViewAnal.top_handset_by_manufacturer('Huawei', 5)"
   ]
  },
  {
   "cell_type": "code",
   "execution_count": null,
   "id": "37ce8bae",
   "metadata": {},
   "outputs": [],
   "source": [
    "cleaned_df['bearer_id'].isnull().any()\n",
    "print(f\"percent missing for bearer_id is:{Helper.percent_missing_for_col(cleaned_df, 'bearer_id')}\")"
   ]
  },
  {
   "cell_type": "code",
   "execution_count": null,
   "id": "af82261d",
   "metadata": {},
   "outputs": [],
   "source": [
    "print(f\"percent missing for msisdn/number is:{Helper.percent_missing_for_col(cleaned_df, 'msisdn/number')}\")"
   ]
  },
  {
   "cell_type": "code",
   "execution_count": null,
   "id": "efdcd760",
   "metadata": {},
   "outputs": [],
   "source": [
    "cleaned_df = cleaned_df.dropna(subset=['msisdn/number'])\n",
    "print(f\"percent missing for msisdn/number is:{Helper.percent_missing_for_col(cleaned_df, 'msisdn/number')}\")"
   ]
  },
  {
   "cell_type": "code",
   "execution_count": null,
   "id": "c9295a0c",
   "metadata": {},
   "outputs": [],
   "source": [
    "sessions = cleaned_df.groupby('msisdn/number').agg({'bearer_id': 'count'})\n",
    "sessions = sessions.rename(columns= {'bearer_id': 'xDR_sessions'})\n",
    "sessions.sort_values(by=['xDR_sessions'], ascending = False).head(10)"
   ]
  },
  {
   "cell_type": "code",
   "execution_count": null,
   "id": "a085ece5",
   "metadata": {},
   "outputs": [],
   "source": [
    "print(f\"percent missing for dur._(ms) is:{Helper.percent_missing_for_col(cleaned_df, 'dur._(ms)')}\")"
   ]
  },
  {
   "cell_type": "code",
   "execution_count": null,
   "id": "dcea9c96",
   "metadata": {},
   "outputs": [],
   "source": [
    "durations = cleaned_df.groupby('msisdn/number').agg({'dur._(ms)': 'sum'})\n",
    "#here is the duration for first five rows in our dataset\n",
    "durations=durations.rename(columns= {'dur._(ms)': 'total_duration(ms)'})\n",
    "durations.sort_values(by=['total_duration(ms)'], ascending = False).head(10)"
   ]
  },
  {
   "cell_type": "code",
   "execution_count": null,
   "id": "4f0d6827",
   "metadata": {},
   "outputs": [],
   "source": [
    "total_data_df = cleaned_df[['msisdn/number','total_ul_(bytes)','total_dl_(bytes)']].copy()\n",
    "total_data_df = total_data_df.groupby('msisdn/number').sum()\n",
    "total_data_df['total_data(bytes)'] = total_data_df['total_ul_(bytes)'] + total_data_df['total_dl_(bytes)']\n",
    "total_data_df.sort_values(by=['total_data(bytes)'], ascending = False).head(10)"
   ]
  },
  {
   "cell_type": "code",
   "execution_count": null,
   "id": "f5196b4f",
   "metadata": {},
   "outputs": [],
   "source": [
    "cleaned_df[\"social_media\"] = cleaned_df[\"social_media_dl_(bytes)\"] + cleaned_df['social_media_ul_(bytes)']\n",
    "cleaned_df[\"google\"] = cleaned_df[\"google_dl_(bytes)\"] + cleaned_df[\"google_ul_(bytes)\"]\n",
    "cleaned_df['email'] = cleaned_df[\"email_dl_(bytes)\"] + cleaned_df[\"email_ul_(bytes)\"]\n",
    "cleaned_df['youtube'] = cleaned_df[\"youtube_dl_(bytes)\"] + cleaned_df[\"youtube_ul_(bytes)\"]\n",
    "cleaned_df['netflix'] = cleaned_df[\"netflix_dl_(bytes)\"] + cleaned_df[\"netflix_ul_(bytes)\"]\n",
    "cleaned_df[\"gaming\"] = cleaned_df[\"gaming_dl_(bytes)\"] + cleaned_df[\"gaming_ul_(bytes)\"]\n",
    "cleaned_df['other']= cleaned_df[\"other_dl_(bytes)\"]+ cleaned_df[\"other_ul_(bytes)\"]\n",
    "cleaned_df['total_data'] = cleaned_df['total_dl_(bytes)'] + cleaned_df['total_ul_(bytes)']"
   ]
  },
  {
   "cell_type": "code",
   "execution_count": null,
   "id": "00cd4120",
   "metadata": {},
   "outputs": [],
   "source": [
    "app_total_data = cleaned_df[['msisdn/number','social_media','google',\n",
    "                             'email', 'youtube','netflix', 'gaming','other']].copy()"
   ]
  },
  {
   "cell_type": "code",
   "execution_count": null,
   "id": "cfcb7691",
   "metadata": {},
   "outputs": [],
   "source": [
    "app_total_data.groupby('msisdn/number').sum().sample(10)"
   ]
  },
  {
   "cell_type": "code",
   "execution_count": null,
   "id": "427ffc7c",
   "metadata": {},
   "outputs": [],
   "source": [
    "SAVE_PATH = \"../data/cleaned_data.csv\""
   ]
  },
  {
   "cell_type": "code",
   "execution_count": null,
   "id": "8838eb6a",
   "metadata": {},
   "outputs": [],
   "source": [
    "cleaned_df =Helper.save_csv(cleaned_df, SAVE_PATH)"
   ]
  },
  {
   "cell_type": "code",
   "execution_count": null,
   "id": "ec11200c",
   "metadata": {},
   "outputs": [],
   "source": [
    "Helper.percent_missing(cleaned_df)"
   ]
  },
  {
   "cell_type": "code",
   "execution_count": null,
   "id": "511b2af0",
   "metadata": {},
   "outputs": [],
   "source": [
    "cleaned_df.info()"
   ]
  },
  {
   "cell_type": "code",
   "execution_count": null,
   "id": "f3a805f5",
   "metadata": {},
   "outputs": [],
   "source": []
  },
  {
   "cell_type": "code",
   "execution_count": null,
   "id": "3fe72280",
   "metadata": {},
   "outputs": [],
   "source": []
  },
  {
   "cell_type": "code",
   "execution_count": null,
   "id": "a0ccf451",
   "metadata": {},
   "outputs": [],
   "source": []
  },
  {
   "cell_type": "code",
   "execution_count": null,
   "id": "246d10e4",
   "metadata": {},
   "outputs": [],
   "source": []
  }
 ],
 "metadata": {
  "kernelspec": {
   "display_name": "Python 3",
   "language": "python",
   "name": "python3"
  },
  "language_info": {
   "codemirror_mode": {
    "name": "ipython",
    "version": 3
   },
   "file_extension": ".py",
   "mimetype": "text/x-python",
   "name": "python",
   "nbconvert_exporter": "python",
   "pygments_lexer": "ipython3",
   "version": "3.9.4"
  }
 },
 "nbformat": 4,
 "nbformat_minor": 5
}
